{
  "nbformat": 4,
  "nbformat_minor": 0,
  "metadata": {
    "colab": {
      "provenance": [],
      "authorship_tag": "ABX9TyPFuYTMzV09ZQyUNyyaq3bh",
      "include_colab_link": true
    },
    "kernelspec": {
      "name": "python3",
      "display_name": "Python 3"
    },
    "language_info": {
      "name": "python"
    }
  },
  "cells": [
    {
      "cell_type": "markdown",
      "metadata": {
        "id": "view-in-github",
        "colab_type": "text"
      },
      "source": [
        "<a href=\"https://colab.research.google.com/github/CamiJara08/Curso_Lenguaje_De_Programacion/blob/main/Precio_De_Una_Opcion_Europea.ipynb\" target=\"_parent\"><img src=\"https://colab.research.google.com/assets/colab-badge.svg\" alt=\"Open In Colab\"/></a>"
      ]
    },
    {
      "cell_type": "markdown",
      "source": [
        "# ___Precio de una Opción Europea___\n",
        "\n",
        "Una opción europea es una versión de un contrato de opciones que limita la ejecución a su fecha de vencimiento. En otras palabras, si el valor subyacente, como una acción, ha variado de precio, un inversor no podría ejercer la opción de forma anticipada y recibir o vender las acciones. En cambio, la acción de compra o venta solo se llevará a cabo en la fecha de vencimiento de la opción.\n",
        "\n",
        "\n",
        "\n"
      ],
      "metadata": {
        "id": "QCyrTsAXJbYd"
      }
    },
    {
      "cell_type": "markdown",
      "source": [
        "## ___Fórmula de una Opción Europea___\n",
        "\n",
        "### ¿Cómo calcular una Opción Europea?\n",
        "\n",
        "Se calcula con la fórmula de Black-Scholes. Esta fórmula permite estimar el valor teórico de una opción de compra o venta de tipo europeo:\n",
        "\n",
        "Donde las variables de la fórmula de Black-Scholes es:\n",
        "\n",
        "* _C_\t=\tprecio de la opción de compra\n",
        "* _P_ = Precio de la opción de la venta\n",
        "* _N(d)_ = FDA de la distribución normal estándar\n",
        "* _S0_ = precio actual del activo subyacente\n",
        "* _r_ = tasa de interés sin riesgo\n",
        "* _T_ = plazo de vencimiento en años\n",
        "* _σ_ - sigma = volatilidad del activo\n",
        "* _X_ = precio de ejercicio de la opción\n",
        "*_e_ = euler\n",
        "* _d1_ y _d2_ = es la definición de\n",
        "\n",
        "#### ___Para d1___\n",
        "\n",
        "\n",
        "$$\n",
        "d1= (Ln(S0/X) + (r + σ ^ 2) / 2) * T  / σ * √(T)\n",
        "$$\n",
        "\n",
        "#### ___Para d2___\n",
        "\n",
        "$$\n",
        "d2= d1 - σ * √(T)\n",
        "$$\n",
        "\n",
        "\n",
        "\n",
        "### ___Fórmula Black-Scholes___\n",
        "\n",
        "##### ___Para una compra (Call)___\n",
        "\n",
        "$$\n",
        "C = S0*N(d1)-X*e^{(-rt)} *N(d2)\n",
        "$$\n",
        "\n",
        "\n",
        "##### ___Para una venta (Put)___\n",
        "\n",
        "$$\n",
        "P = X*e^{(-rt)}*N(-d2)-S0*N(-d1)\n",
        "$$\n",
        "\n",
        "\n"
      ],
      "metadata": {
        "id": "wSNIRfQRVrKd"
      }
    },
    {
      "cell_type": "markdown",
      "source": [
        "### *Ejercicio*"
      ],
      "metadata": {
        "id": "6qBZnTSvbkTE"
      }
    },
    {
      "cell_type": "code",
      "source": [
        "Precio_actual_del_activo = 5000000\n",
        "Precio_del_ejercicio = 550000\n",
        "Tiempo_hasta_el_vencimiento = 1\n",
        "Tasa_de_interes = 0.20\n",
        "Volatilidad = 0.20\n",
        "\n"
      ],
      "metadata": {
        "id": "HK2GmJYKiqkT"
      },
      "execution_count": 8,
      "outputs": []
    },
    {
      "cell_type": "code",
      "source": [
        "d1=(math.log(Precio_actual_del_activo/Precio_del_ejercicio)+(Tasa_de_interes+Volatilidad**2/2)*Tiempo_hasta_el_vencimiento)/(Volatilidad*math.sqrt(Tiempo_hasta_el_vencimiento))\n",
        "\n",
        "print(d1)"
      ],
      "metadata": {
        "colab": {
          "base_uri": "https://localhost:8080/"
        },
        "id": "c5SteFt2JNOR",
        "outputId": "bb71dded-a70e-4b57-9938-6c2c2185a23b"
      },
      "execution_count": 9,
      "outputs": [
        {
          "output_type": "stream",
          "name": "stdout",
          "text": [
            "12.136374565948605\n"
          ]
        }
      ]
    },
    {
      "cell_type": "code",
      "source": [
        "d2= d1-Volatilidad*math.sqrt(Tiempo_hasta_el_vencimiento)\n",
        "\n",
        "print(d2)"
      ],
      "metadata": {
        "colab": {
          "base_uri": "https://localhost:8080/"
        },
        "id": "8rIl2WEaLbuJ",
        "outputId": "75f54912-ef9d-4b8c-a5c7-61f73b6be98b"
      },
      "execution_count": 10,
      "outputs": [
        {
          "output_type": "stream",
          "name": "stdout",
          "text": [
            "11.936374565948606\n"
          ]
        }
      ]
    },
    {
      "cell_type": "code",
      "source": [
        "import math\n",
        "\n",
        "distribucion_normal_estandar1= 1/math.sqrt(2*math.pi)*math.exp(-(x**2/2))\n",
        "x= d1\n",
        "print(distribucion_normal_estandar1)"
      ],
      "metadata": {
        "colab": {
          "base_uri": "https://localhost:8080/"
        },
        "id": "TPmZITdDx1da",
        "outputId": "a1c002db-20c5-42c5-c6f4-2e62f4a414ef"
      },
      "execution_count": 11,
      "outputs": [
        {
          "output_type": "stream",
          "name": "stdout",
          "text": [
            "5.052271083536893e-15\n"
          ]
        }
      ]
    },
    {
      "cell_type": "code",
      "source": [
        "import math\n",
        "\n",
        "distribucion_normal_estandar2= 1/math.sqrt(2*math.pi)*math.exp(-(x**2/2))\n",
        "x= d2\n",
        "print(distribucion_normal_estandar2)"
      ],
      "metadata": {
        "colab": {
          "base_uri": "https://localhost:8080/"
        },
        "id": "JOBN88Mwx5tE",
        "outputId": "13fdd365-fa50-4033-8c50-cfce3a90a8a8"
      },
      "execution_count": 12,
      "outputs": [
        {
          "output_type": "stream",
          "name": "stdout",
          "text": [
            "4.139503003208395e-33\n"
          ]
        }
      ]
    },
    {
      "cell_type": "markdown",
      "source": [
        "### ___Fórmula para la compra___"
      ],
      "metadata": {
        "id": "dGFBeuFAbHcO"
      }
    },
    {
      "cell_type": "code",
      "source": [
        "c= Precio_actual_del_activo*distribucion_normal_estandar1-Precio_actual_del_activo*math.e**math.exp(-Tasa_de_interes*Tiempo_hasta_el_vencimiento)*distribucion_normal_estandar2\n",
        "print(c)"
      ],
      "metadata": {
        "colab": {
          "base_uri": "https://localhost:8080/"
        },
        "id": "M2AWcBBkLrYt",
        "outputId": "f71645fb-30ee-4028-e7c4-7ffabd87f382"
      },
      "execution_count": 13,
      "outputs": [
        {
          "output_type": "stream",
          "name": "stdout",
          "text": [
            "2.5261355417684464e-08\n"
          ]
        }
      ]
    },
    {
      "cell_type": "markdown",
      "source": [
        "### ___Fórmula para la venta___"
      ],
      "metadata": {
        "id": "HGm3z8NxbNns"
      }
    },
    {
      "cell_type": "code",
      "source": [
        "p= Precio_del_ejercicio*math.e**math.exp(-Tasa_de_interes*Tiempo_hasta_el_vencimiento)*-distribucion_normal_estandar1-Precio_actual_del_activo*-distribucion_normal_estandar2\n",
        "\n",
        "print(p)"
      ],
      "metadata": {
        "colab": {
          "base_uri": "https://localhost:8080/"
        },
        "id": "B-zv8gDcWziR",
        "outputId": "78bf663a-e291-47b3-e752-b280ec629ab1"
      },
      "execution_count": 14,
      "outputs": [
        {
          "output_type": "stream",
          "name": "stdout",
          "text": [
            "-6.3011465822993085e-09\n"
          ]
        }
      ]
    },
    {
      "cell_type": "markdown",
      "source": [
        "#### ___Variables asignadas para el ejercicio___"
      ],
      "metadata": {
        "id": "xPUArT2wb5MK"
      }
    },
    {
      "cell_type": "code",
      "source": [
        "import math\n",
        "\n",
        "x= 10\n",
        "logaritmo= math.log(x)\n",
        "print(logaritmo)"
      ],
      "metadata": {
        "colab": {
          "base_uri": "https://localhost:8080/"
        },
        "id": "KOD8tfL9BAH_",
        "outputId": "15685dab-4348-45df-9e8e-f96302379d71"
      },
      "execution_count": 2,
      "outputs": [
        {
          "output_type": "stream",
          "name": "stdout",
          "text": [
            "2.302585092994046\n"
          ]
        }
      ]
    },
    {
      "cell_type": "code",
      "source": [
        "import math\n",
        "\n",
        "x= 9\n",
        "raiz= math.sqrt(x)\n",
        "print(raiz)"
      ],
      "metadata": {
        "colab": {
          "base_uri": "https://localhost:8080/"
        },
        "id": "hq5S1nPiJk-x",
        "outputId": "307d0984-0fa2-4236-ed40-43115e97f788"
      },
      "execution_count": 3,
      "outputs": [
        {
          "output_type": "stream",
          "name": "stdout",
          "text": [
            "3.0\n"
          ]
        }
      ]
    },
    {
      "cell_type": "code",
      "source": [
        "import math\n",
        "\n",
        "x=2\n",
        "potencia= math.exp(x)\n",
        "print(potencia)"
      ],
      "metadata": {
        "colab": {
          "base_uri": "https://localhost:8080/"
        },
        "id": "eGEV47GLMAIC",
        "outputId": "86a64d55-f65f-46bd-f4de-07d94835812c"
      },
      "execution_count": 4,
      "outputs": [
        {
          "output_type": "stream",
          "name": "stdout",
          "text": [
            "7.38905609893065\n"
          ]
        }
      ]
    },
    {
      "cell_type": "code",
      "source": [
        "import math\n",
        "\n",
        "x=math.pi\n",
        "print(x)"
      ],
      "metadata": {
        "colab": {
          "base_uri": "https://localhost:8080/"
        },
        "id": "EIx-t2knPhaa",
        "outputId": "3e3694e6-b79a-42bd-823c-d9b790191fdb"
      },
      "execution_count": 5,
      "outputs": [
        {
          "output_type": "stream",
          "name": "stdout",
          "text": [
            "3.141592653589793\n"
          ]
        }
      ]
    },
    {
      "cell_type": "code",
      "source": [
        "import math\n",
        "\n",
        "x=math.e\n",
        "print(x)"
      ],
      "metadata": {
        "colab": {
          "base_uri": "https://localhost:8080/"
        },
        "id": "4M-ceTyN3Sff",
        "outputId": "9158fcd7-7def-4dae-ee2c-c49632239017"
      },
      "execution_count": 6,
      "outputs": [
        {
          "output_type": "stream",
          "name": "stdout",
          "text": [
            "2.718281828459045\n"
          ]
        }
      ]
    },
    {
      "cell_type": "code",
      "source": [
        "import math\n",
        "\n",
        "distribucion_normal_estandar= 1/math.sqrt(2*math.pi)*math.exp(-(x**2/2))\n",
        "x= 8\n",
        "print(distribucion_normal_estandar)"
      ],
      "metadata": {
        "colab": {
          "base_uri": "https://localhost:8080/"
        },
        "id": "xLaz2D55WB7Z",
        "outputId": "39d2e1c0-9b2e-4061-b1aa-485af7b298e7"
      },
      "execution_count": 7,
      "outputs": [
        {
          "output_type": "stream",
          "name": "stdout",
          "text": [
            "0.009917379234403476\n"
          ]
        }
      ]
    }
  ]
}