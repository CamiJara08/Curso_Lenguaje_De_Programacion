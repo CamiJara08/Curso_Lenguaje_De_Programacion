{
  "nbformat": 4,
  "nbformat_minor": 0,
  "metadata": {
    "colab": {
      "provenance": [],
      "authorship_tag": "ABX9TyPFuYTMzV09ZQyUNyyaq3bh",
      "include_colab_link": true
    },
    "kernelspec": {
      "name": "python3",
      "display_name": "Python 3"
    },
    "language_info": {
      "name": "python"
    }
  },
  "cells": [
    {
      "cell_type": "markdown",
      "metadata": {
        "id": "view-in-github",
        "colab_type": "text"
      },
      "source": [
        "<a href=\"https://colab.research.google.com/github/CamiJara08/Curso_Lenguaje_De_Programacion/blob/main/Precio_De_Una_Opcion_Europea.ipynb\" target=\"_parent\"><img src=\"https://colab.research.google.com/assets/colab-badge.svg\" alt=\"Open In Colab\"/></a>"
      ]
    },
    {
      "cell_type": "markdown",
      "source": [
        "# ___Precio de una Opción Europea___\n",
        "\n",
        "Una opción europea es una versión de un contrato de opciones que limita la ejecución a su fecha de vencimiento. En otras palabras, si el valor subyacente, como una acción, ha variado de precio, un inversor no podría ejercer la opción de forma anticipada y recibir o vender las acciones. En cambio, la acción de compra o venta solo se llevará a cabo en la fecha de vencimiento de la opción.\n",
        "\n",
        "\n",
        "\n"
      ],
      "metadata": {
        "id": "QCyrTsAXJbYd"
      }
    },
    {
      "cell_type": "markdown",
      "source": [
        "## ___Fórmula de una Opción Europea___\n",
        "\n",
        "### ¿Cómo calcular una Opción Europea?\n",
        "\n",
        "Se calcula con la fórmula de Black-Scholes. Esta fórmula permite estimar el valor teórico de una opción de compra o venta de tipo europeo:\n",
        "\n",
        "Donde las variables de la fórmula de Black-Scholes es:\n",
        "\n",
        "* _C_\t=\tprecio de la opción de compra\n",
        "* _P_ = Precio de la opción de la venta\n",
        "* _N(d)_ = FDA de la distribución normal estándar\n",
        "* _S0_ = precio actual del activo subyacente\n",
        "* _r_ = tasa de interés sin riesgo\n",
        "* _T_ = plazo de vencimiento en años\n",
        "* _σ_ - sigma = volatilidad del activo\n",
        "* _X_ = precio de ejercicio de la opción\n",
        "*_e_ = euler\n",
        "* _d1_ y _d2_ = es la definición de\n",
        "\n",
        "#### ___Para d1___\n",
        "\n",
        "\n",
        "$$\n",
        "d1= (Ln(S0/X) + (r + σ ^ 2) / 2) * T  / σ * √(T)\n",
        "$$\n",
        "\n",
        "#### ___Para d2___\n",
        "\n",
        "$$\n",
        "d2= d1 - σ * √(T)\n",
        "$$\n",
        "\n",
        "\n",
        "\n",
        "### ___Fórmula Black-Scholes___\n",
        "\n",
        "##### ___Para una compra (Call)___\n",
        "\n",
        "$$\n",
        "C = S0*N(d1)-X*e^{(-rt)} *N(d2)\n",
        "$$\n",
        "\n",
        "\n",
        "##### ___Para una venta (Put)___\n",
        "\n",
        "$$\n",
        "P = X*e^{(-rt)}*N(-d2)-S0*N(-d1)\n",
        "$$\n",
        "\n",
        "\n"
      ],
      "metadata": {
        "id": "wSNIRfQRVrKd"
      }
    },
    {
      "cell_type": "markdown",
      "source": [
        "### *Ejercicio*"
      ],
      "metadata": {
        "id": "6qBZnTSvbkTE"
      }
    },
    {
      "cell_type": "code",
      "source": [
        "Precio_actual_del_activo = 5000000\n",
        "Precio_del_ejercicio = 550000\n",
        "Tiempo_hasta_el_vencimiento = 1\n",
        "Tasa_de_interes = 0.20\n",
        "Volatilidad = 0.20\n",
        "\n"
      ],
      "metadata": {
        "id": "HK2GmJYKiqkT"
      },
      "execution_count": 94,
      "outputs": []
    },
    {
      "cell_type": "code",
      "source": [
        "d1=(math.log(Precio_actual_del_activo/Precio_del_ejercicio)+(Tasa_de_interes+Volatilidad**2/2)*Tiempo_hasta_el_vencimiento)/(Volatilidad*math.sqrt(Tiempo_hasta_el_vencimiento))\n",
        "\n",
        "print(d1)"
      ],
      "metadata": {
        "colab": {
          "base_uri": "https://localhost:8080/"
        },
        "id": "c5SteFt2JNOR",
        "outputId": "8e29b258-96ef-4b4f-c44e-fa7d2dc81fd0"
      },
      "execution_count": 95,
      "outputs": [
        {
          "output_type": "stream",
          "name": "stdout",
          "text": [
            "12.136374565948605\n"
          ]
        }
      ]
    },
    {
      "cell_type": "code",
      "source": [
        "d2= d1-Volatilidad*math.sqrt(Tiempo_hasta_el_vencimiento)\n",
        "\n",
        "print(d2)"
      ],
      "metadata": {
        "colab": {
          "base_uri": "https://localhost:8080/"
        },
        "id": "8rIl2WEaLbuJ",
        "outputId": "477f4b6c-c934-4bc2-9140-b40b5370fe80"
      },
      "execution_count": 96,
      "outputs": [
        {
          "output_type": "stream",
          "name": "stdout",
          "text": [
            "11.936374565948606\n"
          ]
        }
      ]
    },
    {
      "cell_type": "code",
      "source": [
        "import math\n",
        "\n",
        "distribucion_normal_estandar1= 1/math.sqrt(2*math.pi)*math.exp(-(x**2/2))\n",
        "x= d1\n",
        "print(distribucion_normal_estandar1)"
      ],
      "metadata": {
        "colab": {
          "base_uri": "https://localhost:8080/"
        },
        "id": "TPmZITdDx1da",
        "outputId": "d4b13cf0-1e9d-46c6-b285-4bef57e30fc2"
      },
      "execution_count": 97,
      "outputs": [
        {
          "output_type": "stream",
          "name": "stdout",
          "text": [
            "0.2574787944487447\n"
          ]
        }
      ]
    },
    {
      "cell_type": "code",
      "source": [
        "import math\n",
        "\n",
        "distribucion_normal_estandar2= 1/math.sqrt(2*math.pi)*math.exp(-(x**2/2))\n",
        "x= d2\n",
        "print(distribucion_normal_estandar2)"
      ],
      "metadata": {
        "colab": {
          "base_uri": "https://localhost:8080/"
        },
        "id": "JOBN88Mwx5tE",
        "outputId": "e274138b-35b7-42d9-b8e5-f8356b928412"
      },
      "execution_count": 98,
      "outputs": [
        {
          "output_type": "stream",
          "name": "stdout",
          "text": [
            "4.139503003208395e-33\n"
          ]
        }
      ]
    },
    {
      "cell_type": "markdown",
      "source": [
        "### ___Fórmula para la compra___"
      ],
      "metadata": {
        "id": "dGFBeuFAbHcO"
      }
    },
    {
      "cell_type": "code",
      "source": [
        "c= Precio_actual_del_activo*distribucion_normal_estandar1-Precio_actual_del_activo*math.e**math.exp(-Tasa_de_interes*Tiempo_hasta_el_vencimiento)*distribucion_normal_estandar2\n",
        "print(c)"
      ],
      "metadata": {
        "colab": {
          "base_uri": "https://localhost:8080/"
        },
        "id": "M2AWcBBkLrYt",
        "outputId": "5be9628c-7a01-4b18-c184-bb4af6cce295"
      },
      "execution_count": 99,
      "outputs": [
        {
          "output_type": "stream",
          "name": "stdout",
          "text": [
            "1287393.9722437237\n"
          ]
        }
      ]
    },
    {
      "cell_type": "markdown",
      "source": [
        "### ___Fórmula para la venta___"
      ],
      "metadata": {
        "id": "HGm3z8NxbNns"
      }
    },
    {
      "cell_type": "code",
      "source": [
        "p= Precio_del_ejercicio*math.e**math.exp(-Tasa_de_interes*Tiempo_hasta_el_vencimiento)*-distribucion_normal_estandar1-Precio_actual_del_activo*-distribucion_normal_estandar2\n",
        "\n",
        "print(p)"
      ],
      "metadata": {
        "colab": {
          "base_uri": "https://localhost:8080/"
        },
        "id": "B-zv8gDcWziR",
        "outputId": "fcf4f4d3-c4d6-477a-cf12-841a8a7927d1"
      },
      "execution_count": 102,
      "outputs": [
        {
          "output_type": "stream",
          "name": "stdout",
          "text": [
            "-321125.2125686551\n"
          ]
        }
      ]
    },
    {
      "cell_type": "markdown",
      "source": [
        "#### ___Variables asignadas para el ejercicio___"
      ],
      "metadata": {
        "id": "xPUArT2wb5MK"
      }
    },
    {
      "cell_type": "code",
      "source": [
        "import math\n",
        "\n",
        "x= 10\n",
        "logaritmo= math.log(x)\n",
        "print(logaritmo)"
      ],
      "metadata": {
        "colab": {
          "base_uri": "https://localhost:8080/"
        },
        "id": "KOD8tfL9BAH_",
        "outputId": "78fa5b4e-054b-4758-baf0-374270cb46b7"
      },
      "execution_count": 7,
      "outputs": [
        {
          "output_type": "stream",
          "name": "stdout",
          "text": [
            "2.302585092994046\n"
          ]
        }
      ]
    },
    {
      "cell_type": "code",
      "source": [
        "import math\n",
        "\n",
        "x= 9\n",
        "raiz= math.sqrt(x)\n",
        "print(raiz)"
      ],
      "metadata": {
        "colab": {
          "base_uri": "https://localhost:8080/"
        },
        "id": "hq5S1nPiJk-x",
        "outputId": "33441e53-9fdb-48cd-e1a9-2b337efb54af"
      },
      "execution_count": 8,
      "outputs": [
        {
          "output_type": "stream",
          "name": "stdout",
          "text": [
            "3.0\n"
          ]
        }
      ]
    },
    {
      "cell_type": "code",
      "source": [
        "import math\n",
        "\n",
        "x=2\n",
        "potencia= math.exp(x)\n",
        "print(potencia)"
      ],
      "metadata": {
        "colab": {
          "base_uri": "https://localhost:8080/"
        },
        "id": "eGEV47GLMAIC",
        "outputId": "e108d8cd-6c1c-4c96-d159-0d1fc692af2d"
      },
      "execution_count": 9,
      "outputs": [
        {
          "output_type": "stream",
          "name": "stdout",
          "text": [
            "7.38905609893065\n"
          ]
        }
      ]
    },
    {
      "cell_type": "code",
      "source": [
        "import math\n",
        "\n",
        "x=math.pi\n",
        "print(x)"
      ],
      "metadata": {
        "colab": {
          "base_uri": "https://localhost:8080/"
        },
        "id": "EIx-t2knPhaa",
        "outputId": "90986c08-7fb4-4327-b9ed-c8ec6bd94173"
      },
      "execution_count": 10,
      "outputs": [
        {
          "output_type": "stream",
          "name": "stdout",
          "text": [
            "3.141592653589793\n"
          ]
        }
      ]
    },
    {
      "cell_type": "code",
      "source": [
        "import math\n",
        "\n",
        "x=math.e\n",
        "print(x)"
      ],
      "metadata": {
        "colab": {
          "base_uri": "https://localhost:8080/"
        },
        "id": "4M-ceTyN3Sff",
        "outputId": "b8642006-41fb-420c-a135-d61c414c5fdd"
      },
      "execution_count": 11,
      "outputs": [
        {
          "output_type": "stream",
          "name": "stdout",
          "text": [
            "2.718281828459045\n"
          ]
        }
      ]
    },
    {
      "cell_type": "code",
      "source": [
        "import math\n",
        "\n",
        "distribucion_normal_estandar= 1/math.sqrt(2*math.pi)*math.exp(-(x**2/2))\n",
        "x= 8\n",
        "print(distribucion_normal_estandar)"
      ],
      "metadata": {
        "colab": {
          "base_uri": "https://localhost:8080/"
        },
        "id": "xLaz2D55WB7Z",
        "outputId": "7baee8dd-31c5-4e1b-d1e8-a2500eed20b6"
      },
      "execution_count": 12,
      "outputs": [
        {
          "output_type": "stream",
          "name": "stdout",
          "text": [
            "0.009917379234403476\n"
          ]
        }
      ]
    }
  ]
}