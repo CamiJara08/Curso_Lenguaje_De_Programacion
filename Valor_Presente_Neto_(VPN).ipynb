{
  "nbformat": 4,
  "nbformat_minor": 0,
  "metadata": {
    "colab": {
      "provenance": [],
      "authorship_tag": "ABX9TyOU8a7xBSEBPfnodm+cp6C0",
      "include_colab_link": true
    },
    "kernelspec": {
      "name": "python3",
      "display_name": "Python 3"
    },
    "language_info": {
      "name": "python"
    }
  },
  "cells": [
    {
      "cell_type": "markdown",
      "metadata": {
        "id": "view-in-github",
        "colab_type": "text"
      },
      "source": [
        "<a href=\"https://colab.research.google.com/github/CamiJara08/Curso_Lenguaje_De_Programacion/blob/main/Valor_Presente_Neto_(VPN).ipynb\" target=\"_parent\"><img src=\"https://colab.research.google.com/assets/colab-badge.svg\" alt=\"Open In Colab\"/></a>"
      ]
    },
    {
      "cell_type": "markdown",
      "source": [
        "# ***Valor Presente Neto (VPN)***\n",
        "\n",
        "Es el valor de los flujos de efectivo proyectados, descontados al presente. Es un método de modelado financiero utilizado por los contadores para la elaboración de presupuestos de capital y por analistas e inversores para evaluar la rentabilidad de las inversiones y proyectos propuestos. Si el VPM es positivo, el proyecto es rentable; si es negativo, no lo es."
      ],
      "metadata": {
        "id": "r7xjqOm8kauF"
      }
    },
    {
      "cell_type": "markdown",
      "source": [
        "## ___Fórmula del VPN___\n",
        "\n",
        "$$\n",
        "VPN = \\sum_{t=0}^{n} \\frac{C_t}{(1+r)^t} - C_0\n",
        "$$\n",
        "\n",
        "\n",
        "Donde:\n",
        "\n",
        "\n",
        "*   _Ft_ es el flujo de caja en el periodo t\n",
        "*   _r_ es la tasa de descuento\n",
        "*   _C0_ es la inversión inicial\n",
        "\n",
        "\n",
        "\n",
        "\n",
        "\n",
        "\n",
        "\n"
      ],
      "metadata": {
        "id": "PZTOwzkSKAlD"
      }
    },
    {
      "cell_type": "code",
      "source": [
        "inversion_inicial= 1000000\n",
        "flujo_ano_1= 500000\n",
        "flujo_ano_2= 300000\n",
        "flujo_ano_3= 400000\n",
        "tasa_de_descuento= 0.08"
      ],
      "metadata": {
        "id": "6S0PnznMMrUx"
      },
      "execution_count": null,
      "outputs": []
    },
    {
      "cell_type": "code",
      "source": [
        "vpn = (flujo_ano_1/((1+tasa_de_descuento)**1)) + \\\n",
        "      (flujo_ano_2/((1+tasa_de_descuento)**2)) + \\\n",
        "      (flujo_ano_3/((1+tasa_de_descuento)**3)) - inversion_inicial\n",
        "\n",
        "print(\"El Valor Presente Neto (VPN) es:\", vpn)"
      ],
      "metadata": {
        "colab": {
          "base_uri": "https://localhost:8080/"
        },
        "id": "HWfPttRHPrFG",
        "outputId": "9d216548-e8b3-43c4-86ce-260b804dec06"
      },
      "execution_count": null,
      "outputs": [
        {
          "output_type": "stream",
          "name": "stdout",
          "text": [
            "El Valor Presente Neto (VPN) es: 37697.505461565685\n"
          ]
        }
      ]
    },
    {
      "cell_type": "code",
      "source": [
        "if vpn > 0:\n",
        "  print(\"El proyecto es rentable\")\n",
        "else:\n",
        "  print(\"El proyecto no es rentable\")"
      ],
      "metadata": {
        "colab": {
          "base_uri": "https://localhost:8080/"
        },
        "id": "etkmX2qnRsZf",
        "outputId": "60aefc99-afc7-431c-f289-0f1ae188cd0f"
      },
      "execution_count": null,
      "outputs": [
        {
          "output_type": "stream",
          "name": "stdout",
          "text": [
            "El proyecto es rentable\n"
          ]
        }
      ]
    },
    {
      "cell_type": "markdown",
      "source": [
        "### ***Link de consulta***\n",
        "\n",
        "[Valor Presente Neto](https://blog.hubspot.es/sales/que-es-valor-presente-neto)\n"
      ],
      "metadata": {
        "id": "fndS7qUxnFPM"
      }
    },
    {
      "cell_type": "code",
      "source": [],
      "metadata": {
        "id": "gmL63sFYnfXR"
      },
      "execution_count": null,
      "outputs": []
    },
    {
      "cell_type": "markdown",
      "source": [
        "#### ***Imagen***\n",
        "\n",
        "![Imagen](data:image/png;base64,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)\n",
        "\n",
        "\n"
      ],
      "metadata": {
        "id": "p1QrKAo0oSs9"
      }
    },
    {
      "cell_type": "code",
      "source": [],
      "metadata": {
        "id": "9Rr9V3zoowiy"
      },
      "execution_count": null,
      "outputs": []
    }
  ]
}